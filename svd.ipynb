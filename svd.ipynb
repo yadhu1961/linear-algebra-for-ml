{
 "cells": [
  {
   "cell_type": "markdown",
   "id": "7a9a0fe7-448f-4d8f-854d-74cecf44e64e",
   "metadata": {},
   "source": [
    "## Sigular value decomposition example"
   ]
  },
  {
   "cell_type": "code",
   "execution_count": 4,
   "id": "d939007c-c10a-4a67-ae53-89895bc4f821",
   "metadata": {},
   "outputs": [],
   "source": [
    "import numpy as np"
   ]
  },
  {
   "cell_type": "code",
   "execution_count": 5,
   "id": "f33fcf57-bd76-4fc9-a2e3-d1e440008bfd",
   "metadata": {},
   "outputs": [],
   "source": [
    "A = np.array([[-1,2],[3, -2],[5, 7]])"
   ]
  },
  {
   "cell_type": "code",
   "execution_count": 6,
   "id": "9011a408-e036-4375-ba7b-d234c3ad9207",
   "metadata": {},
   "outputs": [],
   "source": [
    "U, S, VT = np.linalg.svd(A)"
   ]
  },
  {
   "cell_type": "code",
   "execution_count": 7,
   "id": "06902eba-b3f9-4511-bd2c-64349093dcc6",
   "metadata": {},
   "outputs": [
    {
     "data": {
      "text/plain": [
       "array([[ 0.12708324,  0.47409506,  0.87125411],\n",
       "       [ 0.00164602, -0.87847553,  0.47778451],\n",
       "       [ 0.99189069, -0.0592843 , -0.11241989]])"
      ]
     },
     "execution_count": 7,
     "metadata": {},
     "output_type": "execute_result"
    }
   ],
   "source": [
    "U"
   ]
  },
  {
   "cell_type": "code",
   "execution_count": 8,
   "id": "e02ab0c8-abc4-4949-84b5-bd63d6bbd41f",
   "metadata": {},
   "outputs": [
    {
     "data": {
      "text/plain": [
       "array([8.66918448, 4.10429538])"
      ]
     },
     "execution_count": 8,
     "metadata": {},
     "output_type": "execute_result"
    }
   ],
   "source": [
    "S"
   ]
  },
  {
   "cell_type": "code",
   "execution_count": 9,
   "id": "f3595638-ace8-4c45-a08b-5d123b1bbcd9",
   "metadata": {},
   "outputs": [
    {
     "data": {
      "text/plain": [
       "array([[ 0.55798885,  0.82984845],\n",
       "       [-0.82984845,  0.55798885]])"
      ]
     },
     "execution_count": 9,
     "metadata": {},
     "output_type": "execute_result"
    }
   ],
   "source": [
    "VT"
   ]
  },
  {
   "cell_type": "code",
   "execution_count": 10,
   "id": "8606829d-c4e3-4fd6-ac11-5b5b58d73ae8",
   "metadata": {},
   "outputs": [
    {
     "data": {
      "text/plain": [
       "array([[ 0.55798885, -0.82984845],\n",
       "       [ 0.82984845,  0.55798885]])"
      ]
     },
     "execution_count": 10,
     "metadata": {},
     "output_type": "execute_result"
    }
   ],
   "source": [
    "V = np.transpose(VT)\n",
    "V"
   ]
  },
  {
   "cell_type": "code",
   "execution_count": 11,
   "id": "6bce5dd0-1e7b-4b23-80c1-faad62e03ef3",
   "metadata": {},
   "outputs": [
    {
     "data": {
      "text/plain": [
       "array([[8.66918448, 0.        ],\n",
       "       [0.        , 4.10429538],\n",
       "       [0.        , 0.        ]])"
      ]
     },
     "execution_count": 11,
     "metadata": {},
     "output_type": "execute_result"
    }
   ],
   "source": [
    "Smat = np.concatenate((np.diag(S), [[0,0]]), axis=0)\n",
    "Smat"
   ]
  },
  {
   "cell_type": "code",
   "execution_count": 12,
   "id": "4e32dde3-27e9-4c57-9762-0c21b5d3139a",
   "metadata": {},
   "outputs": [
    {
     "data": {
      "text/plain": [
       "array([[-1.,  2.],\n",
       "       [ 3., -2.],\n",
       "       [ 5.,  7.]])"
      ]
     },
     "execution_count": 12,
     "metadata": {},
     "output_type": "execute_result"
    }
   ],
   "source": [
    "np.dot(U, np.dot(Smat, VT))"
   ]
  },
  {
   "cell_type": "code",
   "execution_count": 14,
   "id": "19499b20-e225-4ed2-9828-385032a29fb2",
   "metadata": {},
   "outputs": [
    {
     "data": {
      "text/plain": [
       "array([[0.12708324],\n",
       "       [0.00164602],\n",
       "       [0.99189069]])"
      ]
     },
     "execution_count": 14,
     "metadata": {},
     "output_type": "execute_result"
    }
   ],
   "source": [
    "U[:,:1] # meaning all rows but only one one column"
   ]
  },
  {
   "cell_type": "code",
   "execution_count": 20,
   "id": "23da9bdc",
   "metadata": {},
   "outputs": [
    {
     "data": {
      "text/plain": [
       "array([[0.6147408 , 0.91425071],\n",
       "       [0.00796231, 0.01184165],\n",
       "       [4.79808104, 7.13577001]])"
      ]
     },
     "execution_count": 20,
     "metadata": {},
     "output_type": "execute_result"
    }
   ],
   "source": [
    "A_approx = np.dot(U, np.dot([[S[0]]], VT[:1, :]))\n",
    "A_approx"
   ]
  },
  {
   "cell_type": "code",
   "execution_count": 21,
   "id": "5cc7f41c",
   "metadata": {},
   "outputs": [
    {
     "data": {
      "text/plain": [
       "array([[ 2.52307784,  3.75235495],\n",
       "       [ 0.03267967,  0.04860164],\n",
       "       [19.69274183, 29.28730783]])"
      ]
     },
     "execution_count": 21,
     "metadata": {},
     "output_type": "execute_result"
    }
   ],
   "source": [
    "np.dot(S[1], A_approx)"
   ]
  },
  {
   "cell_type": "code",
   "execution_count": null,
   "id": "df18be71",
   "metadata": {},
   "outputs": [],
   "source": []
  }
 ],
 "metadata": {
  "kernelspec": {
   "display_name": "Python 3 (ipykernel)",
   "language": "python",
   "name": "python3"
  },
  "language_info": {
   "codemirror_mode": {
    "name": "ipython",
    "version": 3
   },
   "file_extension": ".py",
   "mimetype": "text/x-python",
   "name": "python",
   "nbconvert_exporter": "python",
   "pygments_lexer": "ipython3",
   "version": "3.9.7"
  }
 },
 "nbformat": 4,
 "nbformat_minor": 5
}
