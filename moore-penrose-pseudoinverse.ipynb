{
 "cells": [
  {
   "cell_type": "markdown",
   "id": "740597b1-7963-40b8-b98b-0ff752bfd5e0",
   "metadata": {},
   "source": [
    "# Moore Penrose Pseudo Inverse\n",
    "\n",
    "## Example pseudoinverse with numpy\n",
    "Pseudo inverse is defined by the following equation \\\n",
    "$A^{+} = VD^{+}U^{T}$ \\\n",
    "**where**: U, D and V are SVD of A. \\\n",
    "           $D^{+}$ is $D^{-1}$ with dimensions adjusted match $U^{T}$ to perform matrix multiplication\n",
    "\n",
    "This is some plain text that forms a paragraph. Add emphasis via **bold** and __bold__, or *italic* and _italic_. \n",
    "\n",
    "Paragraphs must be separated by an empty line. \n",
    "\n",
    "* Sometimes we want to include lists. \n",
    "* Which can be bulleted using asterisks. \n",
    "\n",
    "1. Lists can also be numbered. \n",
    "2. If we want an ordered list.\n",
    "\n",
    "[It is possible to include hyperlinks](https://www.example.com)\n",
    "\n",
    "Inline code uses single backticks: foo(), and code blocks use triple backticks: \n",
    "```\n",
    "bar()\n",
    "``` \n",
    "Or can be indented by 4 spaces: \n",
    "\n",
    "    foo()\n",
    "\n",
    "And finally, adding images is easy: ![Alt text](https://www.example.com/image.jpg)"
   ]
  },
  {
   "cell_type": "code",
   "execution_count": 25,
   "id": "afa9b855-82d9-4e86-ab90-a86af7dee0dd",
   "metadata": {},
   "outputs": [],
   "source": [
    "import numpy as np\n",
    "import torch"
   ]
  },
  {
   "cell_type": "code",
   "execution_count": 26,
   "id": "d1b09e3c-e2ac-445d-8415-50abdf9ab412",
   "metadata": {},
   "outputs": [],
   "source": [
    "A = np.array([[-1, 2],[3, -2],[5,7]])"
   ]
  },
  {
   "cell_type": "code",
   "execution_count": 27,
   "id": "28978729-183a-4d62-9a44-8af3a6fde2e3",
   "metadata": {},
   "outputs": [
    {
     "data": {
      "text/plain": [
       "array([[-1,  2],\n",
       "       [ 3, -2],\n",
       "       [ 5,  7]])"
      ]
     },
     "execution_count": 27,
     "metadata": {},
     "output_type": "execute_result"
    }
   ],
   "source": [
    "A"
   ]
  },
  {
   "cell_type": "code",
   "execution_count": 28,
   "id": "abfae877-0f5d-45b1-a08a-c6fe690ef678",
   "metadata": {},
   "outputs": [],
   "source": [
    "U, D, VT = np.linalg.svd(A)"
   ]
  },
  {
   "cell_type": "code",
   "execution_count": 29,
   "id": "e3cdad61-03ed-4918-90bd-8acf38956ee8",
   "metadata": {},
   "outputs": [
    {
     "data": {
      "text/plain": [
       "array([[ 0.12708324,  0.47409506,  0.87125411],\n",
       "       [ 0.00164602, -0.87847553,  0.47778451],\n",
       "       [ 0.99189069, -0.0592843 , -0.11241989]])"
      ]
     },
     "execution_count": 29,
     "metadata": {},
     "output_type": "execute_result"
    }
   ],
   "source": [
    "U"
   ]
  },
  {
   "cell_type": "code",
   "execution_count": 30,
   "id": "b2b161e1-45c8-408e-8762-5cf2570d74fa",
   "metadata": {},
   "outputs": [
    {
     "data": {
      "text/plain": [
       "array([8.66918448, 4.10429538])"
      ]
     },
     "execution_count": 30,
     "metadata": {},
     "output_type": "execute_result"
    }
   ],
   "source": [
    "D"
   ]
  },
  {
   "cell_type": "code",
   "execution_count": 31,
   "id": "5db26a69-7baa-48f6-abc8-712f35297174",
   "metadata": {},
   "outputs": [
    {
     "data": {
      "text/plain": [
       "array([[ 0.55798885,  0.82984845],\n",
       "       [-0.82984845,  0.55798885]])"
      ]
     },
     "execution_count": 31,
     "metadata": {},
     "output_type": "execute_result"
    }
   ],
   "source": [
    "VT"
   ]
  },
  {
   "cell_type": "code",
   "execution_count": 32,
   "id": "26131194-298a-4749-a8e9-e4e2c25ac4f8",
   "metadata": {},
   "outputs": [
    {
     "data": {
      "text/plain": [
       "array([[0.1153511 , 0.        ],\n",
       "       [0.        , 0.24364718]])"
      ]
     },
     "execution_count": 32,
     "metadata": {},
     "output_type": "execute_result"
    }
   ],
   "source": [
    "Dinv = np.linalg.inv(np.diag(D))\n",
    "Dinv"
   ]
  },
  {
   "cell_type": "code",
   "execution_count": 33,
   "id": "641ce98e-85bc-4155-aa7a-083d3bddad97",
   "metadata": {},
   "outputs": [
    {
     "data": {
      "text/plain": [
       "array([[0.1153511 , 0.        , 0.        ],\n",
       "       [0.        , 0.24364718, 0.        ]])"
      ]
     },
     "execution_count": 33,
     "metadata": {},
     "output_type": "execute_result"
    }
   ],
   "source": [
    "Dplus = np.concatenate((Dinv, np.array([[0,0]]).T), axis=1)\n",
    "Dplus"
   ]
  },
  {
   "cell_type": "code",
   "execution_count": 34,
   "id": "ecf82e13-97e4-4fc0-b65a-2f9374696a20",
   "metadata": {},
   "outputs": [
    {
     "data": {
      "text/plain": [
       "array([[-0.08767773,  0.17772512,  0.07582938],\n",
       "       [ 0.07661927, -0.1192733 ,  0.08688784]])"
      ]
     },
     "execution_count": 34,
     "metadata": {},
     "output_type": "execute_result"
    }
   ],
   "source": [
    "Aplus = np.dot(VT.T, np.dot(Dplus, U.T))\n",
    "Aplus"
   ]
  },
  {
   "cell_type": "code",
   "execution_count": 35,
   "id": "3cc72097-a36d-418e-86c1-48df250bd763",
   "metadata": {},
   "outputs": [
    {
     "data": {
      "text/plain": [
       "array([[-0.08767773,  0.17772512,  0.07582938],\n",
       "       [ 0.07661927, -0.1192733 ,  0.08688784]])"
      ]
     },
     "execution_count": 35,
     "metadata": {},
     "output_type": "execute_result"
    }
   ],
   "source": [
    "np.linalg.pinv(A)"
   ]
  },
  {
   "cell_type": "markdown",
   "id": "d6daf74f-da49-4065-afb5-a9bc6c128a55",
   "metadata": {},
   "source": [
    "# Moore penrose psuedo inverse with PyTorch"
   ]
  },
  {
   "cell_type": "code",
   "execution_count": 69,
   "id": "232f1fa5-5f92-498f-ae94-901abca273e2",
   "metadata": {},
   "outputs": [
    {
     "data": {
      "text/plain": [
       "tensor([[-1.,  2.],\n",
       "        [ 3., -2.],\n",
       "        [ 5.,  7.]])"
      ]
     },
     "execution_count": 69,
     "metadata": {},
     "output_type": "execute_result"
    }
   ],
   "source": [
    "A_fpt = torch.from_numpy(A).float()\n",
    "A_fpt"
   ]
  },
  {
   "cell_type": "code",
   "execution_count": 70,
   "id": "47b82219-3cd2-410d-8562-955460837712",
   "metadata": {},
   "outputs": [],
   "source": [
    "U_pt, D_pt, VT_pt = torch.linalg.svd(A_fpt)"
   ]
  },
  {
   "cell_type": "code",
   "execution_count": 71,
   "id": "8cd20853-9db5-451f-8e32-ddc891ce9982",
   "metadata": {},
   "outputs": [
    {
     "data": {
      "text/plain": [
       "tensor([[ 0.1271,  0.4741,  0.8713],\n",
       "        [ 0.0016, -0.8785,  0.4778],\n",
       "        [ 0.9919, -0.0593, -0.1124]])"
      ]
     },
     "execution_count": 71,
     "metadata": {},
     "output_type": "execute_result"
    }
   ],
   "source": [
    "U_pt"
   ]
  },
  {
   "cell_type": "code",
   "execution_count": 72,
   "id": "9e607dde-96cb-4f5a-951b-34bb4709f587",
   "metadata": {},
   "outputs": [
    {
     "data": {
      "text/plain": [
       "tensor([8.6692, 4.1043])"
      ]
     },
     "execution_count": 72,
     "metadata": {},
     "output_type": "execute_result"
    }
   ],
   "source": [
    "D_pt"
   ]
  },
  {
   "cell_type": "code",
   "execution_count": 73,
   "id": "c5954ea0-3972-4980-b657-588754aab033",
   "metadata": {},
   "outputs": [
    {
     "data": {
      "text/plain": [
       "tensor([[ 0.5580,  0.8298],\n",
       "        [-0.8298,  0.5580]])"
      ]
     },
     "execution_count": 73,
     "metadata": {},
     "output_type": "execute_result"
    }
   ],
   "source": [
    "VT_pt"
   ]
  },
  {
   "cell_type": "markdown",
   "id": "0413f131-a980-4a88-b7ea-95ba84be7871",
   "metadata": {},
   "source": [
    "## Now calculate the pseudo inverse"
   ]
  },
  {
   "cell_type": "code",
   "execution_count": 74,
   "id": "c5fd1d42-7af8-4f6a-94e0-0d9d838c1ef2",
   "metadata": {},
   "outputs": [
    {
     "data": {
      "text/plain": [
       "tensor([[0.1154, 0.0000, 0.0000],\n",
       "        [0.0000, 0.2436, 0.0000]])"
      ]
     },
     "execution_count": 74,
     "metadata": {},
     "output_type": "execute_result"
    }
   ],
   "source": [
    "D_pt_plus = torch.cat((torch.linalg.inv(torch.diag(D_pt)), torch.t(torch.tensor([[0,0]]))), dim=1)\n",
    "D_pt_plus"
   ]
  },
  {
   "cell_type": "code",
   "execution_count": 76,
   "id": "81c1c20a-fea2-4e3d-8211-273afd04128b",
   "metadata": {},
   "outputs": [
    {
     "data": {
      "text/plain": [
       "tensor([[-0.0877,  0.1777,  0.0758],\n",
       "        [ 0.0766, -0.1193,  0.0869]])"
      ]
     },
     "execution_count": 76,
     "metadata": {},
     "output_type": "execute_result"
    }
   ],
   "source": [
    "A_pt_plus = torch.matmul(torch.t(VT_pt), torch.matmul(D_pt_plus, torch.t(U_pt)))\n",
    "A_pt_plus"
   ]
  },
  {
   "cell_type": "code",
   "execution_count": 78,
   "id": "2ca61373-e857-473d-8acf-ee2c3f21030a",
   "metadata": {},
   "outputs": [
    {
     "data": {
      "text/plain": [
       "tensor([[-0.0877,  0.1777,  0.0758],\n",
       "        [ 0.0766, -0.1193,  0.0869]])"
      ]
     },
     "execution_count": 78,
     "metadata": {},
     "output_type": "execute_result"
    }
   ],
   "source": [
    "torch.linalg.pinv(A_fpt)"
   ]
  },
  {
   "cell_type": "code",
   "execution_count": null,
   "id": "1125d24b-1b0a-488f-9e03-4d2a868208bf",
   "metadata": {},
   "outputs": [],
   "source": []
  }
 ],
 "metadata": {
  "kernelspec": {
   "display_name": "Python 3 (ipykernel)",
   "language": "python",
   "name": "python3"
  },
  "language_info": {
   "codemirror_mode": {
    "name": "ipython",
    "version": 3
   },
   "file_extension": ".py",
   "mimetype": "text/x-python",
   "name": "python",
   "nbconvert_exporter": "python",
   "pygments_lexer": "ipython3",
   "version": "3.9.0"
  }
 },
 "nbformat": 4,
 "nbformat_minor": 5
}
