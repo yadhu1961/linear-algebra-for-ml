{
 "cells": [
  {
   "cell_type": "markdown",
   "id": "4a7b7a2d-32a4-47d3-816f-06008f480c6c",
   "metadata": {},
   "source": [
    "# Trace operator on matrices\n",
    "\n",
    "Trace operator on a matrix is sum of diagonal elements\n",
    "\n",
    "Trace operator on matrices has following properties\n",
    "\n",
    "$ Tra(A) = Tra(A^{T})$\n",
    "\n",
    "$||A||_{F} = \\sqrt{Tra(A . A^{T})}$\n",
    "\n",
    "$Tra(ABC) = Tra(BCA) = Tra(CBA)$\n"
   ]
  },
  {
   "cell_type": "code",
   "execution_count": 14,
   "id": "2705384c-50a0-496a-97d5-65d483704400",
   "metadata": {},
   "outputs": [],
   "source": [
    "import torch as pt\n",
    "import math"
   ]
  },
  {
   "cell_type": "code",
   "execution_count": 15,
   "id": "bdc84529-334c-46aa-a7b4-1c3de2aae506",
   "metadata": {},
   "outputs": [
    {
     "data": {
      "text/plain": [
       "tensor([[-1.,  2.],\n",
       "        [ 3., -2.],\n",
       "        [ 5.,  7.]])"
      ]
     },
     "execution_count": 15,
     "metadata": {},
     "output_type": "execute_result"
    }
   ],
   "source": [
    "A = pt.tensor([[-1, 2],[3.0,-2],[5, 7]])\n",
    "A"
   ]
  },
  {
   "cell_type": "code",
   "execution_count": 16,
   "id": "9c88c5fa-9d7c-4840-98a1-b6899a9d3efe",
   "metadata": {},
   "outputs": [
    {
     "data": {
      "text/plain": [
       "tensor(-3.)"
      ]
     },
     "execution_count": 16,
     "metadata": {},
     "output_type": "execute_result"
    }
   ],
   "source": [
    "traceA = pt.trace(A)\n",
    "traceA"
   ]
  },
  {
   "cell_type": "code",
   "execution_count": 17,
   "id": "c2518613-4d55-463e-8e87-29b808075ed2",
   "metadata": {},
   "outputs": [
    {
     "data": {
      "text/plain": [
       "tensor(9.5917)"
      ]
     },
     "execution_count": 17,
     "metadata": {},
     "output_type": "execute_result"
    }
   ],
   "source": [
    "frb_normA = pt.linalg.matrix_norm(A)\n",
    "frb_normA"
   ]
  },
  {
   "cell_type": "code",
   "execution_count": 18,
   "id": "cea095c1-3f38-462b-b812-0dcb2f4c76a1",
   "metadata": {},
   "outputs": [
    {
     "data": {
      "text/plain": [
       "tensor(92.)"
      ]
     },
     "execution_count": 18,
     "metadata": {},
     "output_type": "execute_result"
    }
   ],
   "source": [
    "trace_AAt = pt.trace(pt.matmul(A, pt.t(A)))\n",
    "trace_AAt"
   ]
  },
  {
   "cell_type": "code",
   "execution_count": 19,
   "id": "5d1bebf5-e1ba-4495-9bfc-6cf2c49aa081",
   "metadata": {},
   "outputs": [
    {
     "data": {
      "text/plain": [
       "9.591663046625438"
      ]
     },
     "execution_count": 19,
     "metadata": {},
     "output_type": "execute_result"
    }
   ],
   "source": [
    "math.sqrt(trace_AAt)"
   ]
  },
  {
   "cell_type": "code",
   "execution_count": null,
   "id": "21747868-52fb-44a1-a1c1-372cea7e5017",
   "metadata": {},
   "outputs": [],
   "source": []
  }
 ],
 "metadata": {
  "kernelspec": {
   "display_name": "Python 3 (ipykernel)",
   "language": "python",
   "name": "python3"
  },
  "language_info": {
   "codemirror_mode": {
    "name": "ipython",
    "version": 3
   },
   "file_extension": ".py",
   "mimetype": "text/x-python",
   "name": "python",
   "nbconvert_exporter": "python",
   "pygments_lexer": "ipython3",
   "version": "3.9.0"
  }
 },
 "nbformat": 4,
 "nbformat_minor": 5
}
