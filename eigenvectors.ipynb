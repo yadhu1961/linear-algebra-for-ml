{
  "cells": [
    {
      "cell_type": "markdown",
      "metadata": {
        "id": "view-in-github",
        "colab_type": "text"
      },
      "source": [
        "<a href=\"https://colab.research.google.com/github/yadhu1961/linear-algebra-for-ml/blob/main/eigenvectors.ipynb\" target=\"_parent\"><img src=\"https://colab.research.google.com/assets/colab-badge.svg\" alt=\"Open In Colab\"/></a>"
      ]
    },
    {
      "cell_type": "markdown",
      "id": "139df79f-357b-47e2-b4f7-353bec2c20a1",
      "metadata": {
        "id": "139df79f-357b-47e2-b4f7-353bec2c20a1"
      },
      "source": [
        "# Eigen decomposition\n",
        "\n",
        "## Example eigen decomposition with numpy\n",
        "## Example eigen decomposition with pytorch\n",
        "\n",
        "This is some plain text that forms a paragraph. Add emphasis via **bold** and __bold__, or *italic* and _italic_.\n",
        "\n",
        "Paragraphs must be separated by an empty line.\n",
        "\n",
        "* Sometimes we want to include lists.\n",
        "* Which can be bulleted using asterisks.\n",
        "\n",
        "1. Lists can also be numbered.\n",
        "2. If we want an ordered list.\n",
        "\n",
        "[It is possible to include hyperlinks](https://www.example.com)\n",
        "\n",
        "Inline code uses single backticks: foo(), and code blocks use triple backticks:\n",
        "```\n",
        "bar()\n",
        "```\n",
        "Or can be indented by 4 spaces:\n",
        "\n",
        "    foo()\n",
        "\n",
        "And finally, adding images is easy: ![Alt text](https://www.example.com/image.jpg)"
      ]
    },
    {
      "cell_type": "code",
      "execution_count": 1,
      "id": "64a00976-73d7-4cee-9d74-11caa4e1b485",
      "metadata": {
        "id": "64a00976-73d7-4cee-9d74-11caa4e1b485"
      },
      "outputs": [],
      "source": [
        "import numpy as np\n",
        "import torch as pt\n",
        "import tensorflow as tf"
      ]
    },
    {
      "cell_type": "markdown",
      "id": "c3eabf69-c799-4067-b470-9976f4381b9d",
      "metadata": {
        "id": "c3eabf69-c799-4067-b470-9976f4381b9d"
      },
      "source": [
        "## Example eigen decomposition with numpy"
      ]
    },
    {
      "cell_type": "code",
      "execution_count": 2,
      "id": "0e2011f8-ea9c-4d7b-a9b7-f29d203d7fda",
      "metadata": {
        "colab": {
          "base_uri": "https://localhost:8080/"
        },
        "id": "0e2011f8-ea9c-4d7b-a9b7-f29d203d7fda",
        "outputId": "b07a79cf-4880-4cdd-f00e-942e8f500e13"
      },
      "outputs": [
        {
          "output_type": "execute_result",
          "data": {
            "text/plain": [
              "array([[-1,  3],\n",
              "       [ 2,  1]])"
            ]
          },
          "metadata": {},
          "execution_count": 2
        }
      ],
      "source": [
        "A = np.array([[-1, 3],[2, 1]])\n",
        "A"
      ]
    },
    {
      "cell_type": "code",
      "execution_count": 3,
      "id": "979bda31-52df-42bc-a408-7308d98c844c",
      "metadata": {
        "colab": {
          "base_uri": "https://localhost:8080/"
        },
        "id": "979bda31-52df-42bc-a408-7308d98c844c",
        "outputId": "72a67358-df2a-459d-8f4e-836775427c0c"
      },
      "outputs": [
        {
          "output_type": "execute_result",
          "data": {
            "text/plain": [
              "array([-2.64575131,  2.64575131])"
            ]
          },
          "metadata": {},
          "execution_count": 3
        }
      ],
      "source": [
        "eigvalues,eigvectors = np.linalg.eig(A)\n",
        "eigvalues"
      ]
    },
    {
      "cell_type": "code",
      "execution_count": 4,
      "id": "ee1ca4ff-ae20-4fd9-8e92-ac25a602a127",
      "metadata": {
        "colab": {
          "base_uri": "https://localhost:8080/"
        },
        "id": "ee1ca4ff-ae20-4fd9-8e92-ac25a602a127",
        "outputId": "0b86b13d-92cf-4617-8330-c90f27670f68"
      },
      "outputs": [
        {
          "output_type": "execute_result",
          "data": {
            "text/plain": [
              "array([[-0.8767397 , -0.6354064 ],\n",
              "       [ 0.48096517, -0.7721779 ]])"
            ]
          },
          "metadata": {},
          "execution_count": 4
        }
      ],
      "source": [
        "eigvectors"
      ]
    },
    {
      "cell_type": "code",
      "execution_count": 5,
      "id": "ddafb363-7ac9-4e82-a075-17581d153b72",
      "metadata": {
        "colab": {
          "base_uri": "https://localhost:8080/"
        },
        "id": "ddafb363-7ac9-4e82-a075-17581d153b72",
        "outputId": "5cc6d1e0-66cf-42cf-b8a6-4d3f4ebff85f"
      },
      "outputs": [
        {
          "output_type": "execute_result",
          "data": {
            "text/plain": [
              "array([-0.8767397 ,  0.48096517])"
            ]
          },
          "metadata": {},
          "execution_count": 5
        }
      ],
      "source": [
        "v0 = eigvectors[:,0]\n",
        "v0"
      ]
    },
    {
      "cell_type": "code",
      "execution_count": 6,
      "id": "8ff5008f-519a-43c8-9e09-91dc254eda30",
      "metadata": {
        "colab": {
          "base_uri": "https://localhost:8080/"
        },
        "id": "8ff5008f-519a-43c8-9e09-91dc254eda30",
        "outputId": "41a9f1ff-e645-48b5-ddf4-9fa033c187a6"
      },
      "outputs": [
        {
          "output_type": "execute_result",
          "data": {
            "text/plain": [
              "array([ 2.31963521, -1.27251423])"
            ]
          },
          "metadata": {},
          "execution_count": 6
        }
      ],
      "source": [
        "lambda_v0 = np.dot(eigvalues[0], v0)\n",
        "lambda_v0"
      ]
    },
    {
      "cell_type": "code",
      "execution_count": 7,
      "id": "013cd5c9-8e30-47eb-8b86-6a39a6c6b351",
      "metadata": {
        "colab": {
          "base_uri": "https://localhost:8080/"
        },
        "id": "013cd5c9-8e30-47eb-8b86-6a39a6c6b351",
        "outputId": "57fe2aa6-2005-45b8-c028-ef890c1c6f08"
      },
      "outputs": [
        {
          "output_type": "execute_result",
          "data": {
            "text/plain": [
              "array([ 2.31963521, -1.27251423])"
            ]
          },
          "metadata": {},
          "execution_count": 7
        }
      ],
      "source": [
        "AxV0 = np.dot(A, v0)\n",
        "AxV0"
      ]
    },
    {
      "cell_type": "markdown",
      "id": "9c1f38bd-23b9-469b-bb43-2370bec448ca",
      "metadata": {
        "id": "9c1f38bd-23b9-469b-bb43-2370bec448ca"
      },
      "source": [
        "## Example eigen decomposition with pytorch"
      ]
    },
    {
      "cell_type": "code",
      "execution_count": 8,
      "id": "22c5051f-9fe3-403c-8aa1-f3ce9c857360",
      "metadata": {
        "colab": {
          "base_uri": "https://localhost:8080/"
        },
        "id": "22c5051f-9fe3-403c-8aa1-f3ce9c857360",
        "outputId": "d09ae830-3336-4517-9d49-b05ed7e20978"
      },
      "outputs": [
        {
          "output_type": "execute_result",
          "data": {
            "text/plain": [
              "tensor([[-1.,  3.],\n",
              "        [ 2.,  1.]])"
            ]
          },
          "metadata": {},
          "execution_count": 8
        }
      ],
      "source": [
        "A_pt = pt.from_numpy(A).float()\n",
        "A_pt"
      ]
    },
    {
      "cell_type": "code",
      "execution_count": 9,
      "id": "5a4c6a0d-78bb-4412-8833-af00b4a3a18b",
      "metadata": {
        "id": "5a4c6a0d-78bb-4412-8833-af00b4a3a18b"
      },
      "outputs": [],
      "source": [
        "lambdas_cplx, V_cplx = pt.linalg.eig(A_pt)"
      ]
    },
    {
      "cell_type": "code",
      "execution_count": 10,
      "id": "95aea442-0fbc-49d4-b863-b5832961cd75",
      "metadata": {
        "colab": {
          "base_uri": "https://localhost:8080/"
        },
        "id": "95aea442-0fbc-49d4-b863-b5832961cd75",
        "outputId": "447d23b2-f24e-4888-9f06-7b82335ecb2f"
      },
      "outputs": [
        {
          "output_type": "execute_result",
          "data": {
            "text/plain": [
              "tensor([-2.6458+0.j,  2.6458+0.j])"
            ]
          },
          "metadata": {},
          "execution_count": 10
        }
      ],
      "source": [
        "lambdas_cplx"
      ]
    },
    {
      "cell_type": "code",
      "execution_count": 11,
      "id": "93d36882-60e4-45f7-95c7-a8853276cc80",
      "metadata": {
        "colab": {
          "base_uri": "https://localhost:8080/"
        },
        "id": "93d36882-60e4-45f7-95c7-a8853276cc80",
        "outputId": "a6a6ef26-88dc-4267-fe56-84d8bbeb2e94"
      },
      "outputs": [
        {
          "output_type": "execute_result",
          "data": {
            "text/plain": [
              "tensor([[-0.8767+0.j, -0.6354+0.j],\n",
              "        [ 0.4810+0.j, -0.7722+0.j]])"
            ]
          },
          "metadata": {},
          "execution_count": 11
        }
      ],
      "source": [
        "V_cplx"
      ]
    },
    {
      "cell_type": "code",
      "execution_count": 12,
      "id": "eddaeefb-a096-48a6-9392-4b12f41a009f",
      "metadata": {
        "colab": {
          "base_uri": "https://localhost:8080/"
        },
        "id": "eddaeefb-a096-48a6-9392-4b12f41a009f",
        "outputId": "f322299e-f5c4-4932-8a73-8cf1ba46b602"
      },
      "outputs": [
        {
          "output_type": "stream",
          "name": "stderr",
          "text": [
            "<ipython-input-12-ba530abec30a>:1: UserWarning: Casting complex values to real discards the imaginary part (Triggered internally at ../aten/src/ATen/native/Copy.cpp:301.)\n",
            "  V_float = V_cplx.float()\n"
          ]
        },
        {
          "output_type": "execute_result",
          "data": {
            "text/plain": [
              "tensor([[-0.8767, -0.6354],\n",
              "        [ 0.4810, -0.7722]])"
            ]
          },
          "metadata": {},
          "execution_count": 12
        }
      ],
      "source": [
        "V_float = V_cplx.float()\n",
        "V_float"
      ]
    },
    {
      "cell_type": "code",
      "execution_count": 13,
      "id": "d77d5337-3858-4ec2-a579-d245e02cbbd6",
      "metadata": {
        "colab": {
          "base_uri": "https://localhost:8080/"
        },
        "id": "d77d5337-3858-4ec2-a579-d245e02cbbd6",
        "outputId": "dc48da93-bb10-4b04-f271-dc94caa10cf8"
      },
      "outputs": [
        {
          "output_type": "execute_result",
          "data": {
            "text/plain": [
              "tensor([ 2.3196, -1.2725])"
            ]
          },
          "metadata": {},
          "execution_count": 13
        }
      ],
      "source": [
        "pt.matmul(A_pt, V_float[:,0])"
      ]
    },
    {
      "cell_type": "code",
      "execution_count": 14,
      "id": "aa0ac03d-9ee7-4629-986b-dcb040c12db9",
      "metadata": {
        "colab": {
          "base_uri": "https://localhost:8080/"
        },
        "id": "aa0ac03d-9ee7-4629-986b-dcb040c12db9",
        "outputId": "9c17ca1c-0bbf-4c35-95d1-e0c63edfba97"
      },
      "outputs": [
        {
          "output_type": "execute_result",
          "data": {
            "text/plain": [
              "tensor([-2.6458,  2.6458])"
            ]
          },
          "metadata": {},
          "execution_count": 14
        }
      ],
      "source": [
        "lambdas = lambdas_cplx.float()\n",
        "lambdas"
      ]
    },
    {
      "cell_type": "code",
      "execution_count": 15,
      "id": "77c1b33e-356a-4a89-a980-5960040ec693",
      "metadata": {
        "colab": {
          "base_uri": "https://localhost:8080/"
        },
        "id": "77c1b33e-356a-4a89-a980-5960040ec693",
        "outputId": "a1bad749-a728-49ad-ea2d-67bbe61c058d"
      },
      "outputs": [
        {
          "output_type": "execute_result",
          "data": {
            "text/plain": [
              "tensor([ 2.3196, -1.2725])"
            ]
          },
          "metadata": {},
          "execution_count": 15
        }
      ],
      "source": [
        "lambda_0xV0 = lambdas[0]*V_float[:,0]\n",
        "lambda_0xV0"
      ]
    },
    {
      "cell_type": "markdown",
      "id": "e06a37af-22a3-46dd-aaf1-06a3a51b9441",
      "metadata": {
        "id": "e06a37af-22a3-46dd-aaf1-06a3a51b9441"
      },
      "source": [
        "## Example eigen decomposition with tensorflow"
      ]
    },
    {
      "cell_type": "code",
      "execution_count": 16,
      "id": "3f583886-aa24-4ece-9cf0-e2b2ffd7bafc",
      "metadata": {
        "colab": {
          "base_uri": "https://localhost:8080/"
        },
        "id": "3f583886-aa24-4ece-9cf0-e2b2ffd7bafc",
        "outputId": "ecf63bcd-4cb1-45f5-f84f-8b7e9d2531c4"
      },
      "outputs": [
        {
          "output_type": "execute_result",
          "data": {
            "text/plain": [
              "<tf.Tensor: shape=(2, 2), dtype=float32, numpy=\n",
              "array([[-1.,  3.],\n",
              "       [ 2.,  1.]], dtype=float32)>"
            ]
          },
          "metadata": {},
          "execution_count": 16
        }
      ],
      "source": [
        "A_tf = tf.convert_to_tensor(A, dtype=tf.float32)\n",
        "A_tf"
      ]
    },
    {
      "cell_type": "code",
      "execution_count": 17,
      "id": "d081542a-8ba3-4562-b9cf-3236424e05ad",
      "metadata": {
        "id": "d081542a-8ba3-4562-b9cf-3236424e05ad"
      },
      "outputs": [],
      "source": [
        "eigvalues, eigvectors = tf.linalg.eig(A_tf)"
      ]
    },
    {
      "cell_type": "code",
      "execution_count": 18,
      "id": "67d20187-e181-48ed-9231-4f103e03194a",
      "metadata": {
        "colab": {
          "base_uri": "https://localhost:8080/"
        },
        "id": "67d20187-e181-48ed-9231-4f103e03194a",
        "outputId": "7beea987-6fa5-40ac-8a59-23647e900db2"
      },
      "outputs": [
        {
          "output_type": "execute_result",
          "data": {
            "text/plain": [
              "<tf.Tensor: shape=(2,), dtype=complex64, numpy=array([-2.6457515+0.j,  2.6457515+0.j], dtype=complex64)>"
            ]
          },
          "metadata": {},
          "execution_count": 18
        }
      ],
      "source": [
        "eigvalues"
      ]
    },
    {
      "cell_type": "code",
      "execution_count": 19,
      "id": "8ff930cc-8f27-4f6d-a57d-131162a790e4",
      "metadata": {
        "colab": {
          "base_uri": "https://localhost:8080/"
        },
        "id": "8ff930cc-8f27-4f6d-a57d-131162a790e4",
        "outputId": "121e7773-2cd3-4cce-a504-39f710564759"
      },
      "outputs": [
        {
          "output_type": "execute_result",
          "data": {
            "text/plain": [
              "<tf.Tensor: shape=(2, 2), dtype=complex64, numpy=\n",
              "array([[-0.87673974+0.j, -0.6354064 +0.j],\n",
              "       [ 0.48096517+0.j, -0.7721779 +0.j]], dtype=complex64)>"
            ]
          },
          "metadata": {},
          "execution_count": 19
        }
      ],
      "source": [
        "eigvectors"
      ]
    },
    {
      "cell_type": "code",
      "execution_count": 20,
      "id": "d04e111c-6af6-45f8-b67d-296e30622d5d",
      "metadata": {
        "colab": {
          "base_uri": "https://localhost:8080/"
        },
        "id": "d04e111c-6af6-45f8-b67d-296e30622d5d",
        "outputId": "c139deec-9b7b-44ed-f82e-b98afcbfe32c"
      },
      "outputs": [
        {
          "output_type": "stream",
          "name": "stderr",
          "text": [
            "WARNING:tensorflow:You are casting an input of type complex64 to an incompatible dtype float32.  This will discard the imaginary part and may not be what you intended.\n",
            "WARNING:tensorflow:You are casting an input of type complex64 to an incompatible dtype float32.  This will discard the imaginary part and may not be what you intended.\n"
          ]
        }
      ],
      "source": [
        "lambda_0 = tf.cast(eigvalues[0],dtype=tf.float32)\n",
        "lambda_1 = tf.cast(eigvalues[1],dtype = tf.float32)"
      ]
    },
    {
      "cell_type": "code",
      "execution_count": 21,
      "id": "e92c688e-f0ca-4636-b368-8687d77fde0c",
      "metadata": {
        "colab": {
          "base_uri": "https://localhost:8080/"
        },
        "id": "e92c688e-f0ca-4636-b368-8687d77fde0c",
        "outputId": "47419ef7-eefc-43dd-a2be-57b549f5c4b9"
      },
      "outputs": [
        {
          "output_type": "execute_result",
          "data": {
            "text/plain": [
              "(<tf.Tensor: shape=(), dtype=float32, numpy=-2.6457515>,\n",
              " <tf.Tensor: shape=(), dtype=float32, numpy=2.6457515>)"
            ]
          },
          "metadata": {},
          "execution_count": 21
        }
      ],
      "source": [
        "lambda_0, lambda_1"
      ]
    },
    {
      "cell_type": "code",
      "execution_count": 22,
      "id": "d7d680d9-16e9-49b6-b687-2e43c77de119",
      "metadata": {
        "colab": {
          "base_uri": "https://localhost:8080/"
        },
        "id": "d7d680d9-16e9-49b6-b687-2e43c77de119",
        "outputId": "c422bf18-5bea-4a9b-d8ae-7dfb89260aec"
      },
      "outputs": [
        {
          "output_type": "stream",
          "name": "stderr",
          "text": [
            "WARNING:tensorflow:You are casting an input of type complex64 to an incompatible dtype float32.  This will discard the imaginary part and may not be what you intended.\n"
          ]
        },
        {
          "output_type": "execute_result",
          "data": {
            "text/plain": [
              "<tf.Tensor: shape=(2,), dtype=float32, numpy=array([-0.87673974,  0.48096517], dtype=float32)>"
            ]
          },
          "metadata": {},
          "execution_count": 22
        }
      ],
      "source": [
        "eigvec0 = tf.cast(eigvectors[:,0],dtype=tf.float32)\n",
        "eigvec0"
      ]
    },
    {
      "cell_type": "code",
      "execution_count": 23,
      "id": "d2d02a01-2322-446e-bc66-0aa4e4dc99fa",
      "metadata": {
        "colab": {
          "base_uri": "https://localhost:8080/"
        },
        "id": "d2d02a01-2322-446e-bc66-0aa4e4dc99fa",
        "outputId": "ef6c8463-7cab-4bed-c5ee-d46d6227de27"
      },
      "outputs": [
        {
          "output_type": "execute_result",
          "data": {
            "text/plain": [
              "<tf.Tensor: shape=(2,), dtype=float32, numpy=array([ 2.3196354, -1.2725143], dtype=float32)>"
            ]
          },
          "metadata": {},
          "execution_count": 23
        }
      ],
      "source": [
        "lambda_0xV0 = tf.multiply(lambda_0, eigvec0)\n",
        "lambda_0xV0"
      ]
    },
    {
      "cell_type": "code",
      "execution_count": 24,
      "id": "eec1a6b9-a63d-434b-b833-bfe95e0d0911",
      "metadata": {
        "colab": {
          "base_uri": "https://localhost:8080/"
        },
        "id": "eec1a6b9-a63d-434b-b833-bfe95e0d0911",
        "outputId": "7fdcfff0-9de1-4139-8bce-5bc7ba76854c"
      },
      "outputs": [
        {
          "output_type": "execute_result",
          "data": {
            "text/plain": [
              "<tf.Tensor: shape=(2,), dtype=float32, numpy=array([ 2.3196354, -1.2725143], dtype=float32)>"
            ]
          },
          "metadata": {},
          "execution_count": 24
        }
      ],
      "source": [
        "AxV0 = tf.linalg.matvec(A_tf, eigvec0)\n",
        "AxV0"
      ]
    },
    {
      "cell_type": "code",
      "execution_count": 24,
      "id": "2a591b2c-1bef-448c-b66f-13c4d8ddf482",
      "metadata": {
        "id": "2a591b2c-1bef-448c-b66f-13c4d8ddf482"
      },
      "outputs": [],
      "source": []
    }
  ],
  "metadata": {
    "kernelspec": {
      "display_name": "Python 3 (ipykernel)",
      "language": "python",
      "name": "python3"
    },
    "language_info": {
      "codemirror_mode": {
        "name": "ipython",
        "version": 3
      },
      "file_extension": ".py",
      "mimetype": "text/x-python",
      "name": "python",
      "nbconvert_exporter": "python",
      "pygments_lexer": "ipython3",
      "version": "3.9.7"
    },
    "colab": {
      "provenance": [],
      "include_colab_link": true
    }
  },
  "nbformat": 4,
  "nbformat_minor": 5
}