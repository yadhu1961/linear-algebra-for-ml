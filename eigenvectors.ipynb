{
 "cells": [
  {
   "cell_type": "markdown",
   "id": "139df79f-357b-47e2-b4f7-353bec2c20a1",
   "metadata": {},
   "source": [
    "# Eigen decomposition\n",
    "\n",
    "## Example eigen decomposition with numpy\n",
    "## Example eigen decomposition with pytorch\n",
    "\n",
    "This is some plain text that forms a paragraph. Add emphasis via **bold** and __bold__, or *italic* and _italic_. \n",
    "\n",
    "Paragraphs must be separated by an empty line. \n",
    "\n",
    "* Sometimes we want to include lists. \n",
    "* Which can be bulleted using asterisks. \n",
    "\n",
    "1. Lists can also be numbered. \n",
    "2. If we want an ordered list.\n",
    "\n",
    "[It is possible to include hyperlinks](https://www.example.com)\n",
    "\n",
    "Inline code uses single backticks: foo(), and code blocks use triple backticks: \n",
    "```\n",
    "bar()\n",
    "``` \n",
    "Or can be indented by 4 spaces: \n",
    "\n",
    "    foo()\n",
    "\n",
    "And finally, adding images is easy: ![Alt text](https://www.example.com/image.jpg)"
   ]
  },
  {
   "cell_type": "code",
   "execution_count": 1,
   "id": "64a00976-73d7-4cee-9d74-11caa4e1b485",
   "metadata": {},
   "outputs": [],
   "source": [
    "import numpy as np\n",
    "import torch as pt\n",
    "import tensorflow as tf"
   ]
  },
  {
   "cell_type": "markdown",
   "id": "c3eabf69-c799-4067-b470-9976f4381b9d",
   "metadata": {},
   "source": [
    "## Example eigen decomposition with numpy"
   ]
  },
  {
   "cell_type": "code",
   "execution_count": 2,
   "id": "0e2011f8-ea9c-4d7b-a9b7-f29d203d7fda",
   "metadata": {},
   "outputs": [
    {
     "data": {
      "text/plain": [
       "array([[-1,  3],\n",
       "       [ 2,  1]])"
      ]
     },
     "execution_count": 2,
     "metadata": {},
     "output_type": "execute_result"
    }
   ],
   "source": [
    "A = np.array([[-1, 3],[2, 1]])\n",
    "A"
   ]
  },
  {
   "cell_type": "code",
   "execution_count": 3,
   "id": "979bda31-52df-42bc-a408-7308d98c844c",
   "metadata": {},
   "outputs": [
    {
     "data": {
      "text/plain": [
       "array([-2.64575131,  2.64575131])"
      ]
     },
     "execution_count": 3,
     "metadata": {},
     "output_type": "execute_result"
    }
   ],
   "source": [
    "eigvalues,eigvectors = np.linalg.eig(A)\n",
    "eigvalues"
   ]
  },
  {
   "cell_type": "code",
   "execution_count": 4,
   "id": "ee1ca4ff-ae20-4fd9-8e92-ac25a602a127",
   "metadata": {},
   "outputs": [
    {
     "data": {
      "text/plain": [
       "array([[-0.8767397 , -0.6354064 ],\n",
       "       [ 0.48096517, -0.7721779 ]])"
      ]
     },
     "execution_count": 4,
     "metadata": {},
     "output_type": "execute_result"
    }
   ],
   "source": [
    "eigvectors"
   ]
  },
  {
   "cell_type": "code",
   "execution_count": 5,
   "id": "ddafb363-7ac9-4e82-a075-17581d153b72",
   "metadata": {},
   "outputs": [
    {
     "data": {
      "text/plain": [
       "array([-0.8767397 ,  0.48096517])"
      ]
     },
     "execution_count": 5,
     "metadata": {},
     "output_type": "execute_result"
    }
   ],
   "source": [
    "v0 = eigvectors[:,0]\n",
    "v0"
   ]
  },
  {
   "cell_type": "code",
   "execution_count": 6,
   "id": "8ff5008f-519a-43c8-9e09-91dc254eda30",
   "metadata": {},
   "outputs": [
    {
     "data": {
      "text/plain": [
       "array([ 2.31963521, -1.27251423])"
      ]
     },
     "execution_count": 6,
     "metadata": {},
     "output_type": "execute_result"
    }
   ],
   "source": [
    "lambda_v0 = np.dot(eigvalues[0], v0)\n",
    "lambda_v0"
   ]
  },
  {
   "cell_type": "code",
   "execution_count": 7,
   "id": "013cd5c9-8e30-47eb-8b86-6a39a6c6b351",
   "metadata": {},
   "outputs": [
    {
     "data": {
      "text/plain": [
       "array([ 2.31963521, -1.27251423])"
      ]
     },
     "execution_count": 7,
     "metadata": {},
     "output_type": "execute_result"
    }
   ],
   "source": [
    "AxV0 = np.dot(A, v0)\n",
    "AxV0"
   ]
  },
  {
   "cell_type": "markdown",
   "id": "9c1f38bd-23b9-469b-bb43-2370bec448ca",
   "metadata": {},
   "source": [
    "## Example eigen decomposition with pytorch"
   ]
  },
  {
   "cell_type": "code",
   "execution_count": 8,
   "id": "22c5051f-9fe3-403c-8aa1-f3ce9c857360",
   "metadata": {},
   "outputs": [
    {
     "data": {
      "text/plain": [
       "tensor([[-1.,  3.],\n",
       "        [ 2.,  1.]])"
      ]
     },
     "execution_count": 8,
     "metadata": {},
     "output_type": "execute_result"
    }
   ],
   "source": [
    "A_pt = pt.from_numpy(A).float()\n",
    "A_pt"
   ]
  },
  {
   "cell_type": "code",
   "execution_count": 9,
   "id": "5a4c6a0d-78bb-4412-8833-af00b4a3a18b",
   "metadata": {},
   "outputs": [],
   "source": [
    "lambdas_cplx, V_cplx = pt.linalg.eig(A_pt)"
   ]
  },
  {
   "cell_type": "code",
   "execution_count": 10,
   "id": "95aea442-0fbc-49d4-b863-b5832961cd75",
   "metadata": {},
   "outputs": [
    {
     "data": {
      "text/plain": [
       "tensor([-2.6458+0.j,  2.6458+0.j])"
      ]
     },
     "execution_count": 10,
     "metadata": {},
     "output_type": "execute_result"
    }
   ],
   "source": [
    "lambdas_cplx"
   ]
  },
  {
   "cell_type": "code",
   "execution_count": 11,
   "id": "93d36882-60e4-45f7-95c7-a8853276cc80",
   "metadata": {},
   "outputs": [
    {
     "data": {
      "text/plain": [
       "tensor([[-0.8767+0.j, -0.6354+0.j],\n",
       "        [ 0.4810+0.j, -0.7722+0.j]])"
      ]
     },
     "execution_count": 11,
     "metadata": {},
     "output_type": "execute_result"
    }
   ],
   "source": [
    "V_cplx"
   ]
  },
  {
   "cell_type": "code",
   "execution_count": 12,
   "id": "eddaeefb-a096-48a6-9392-4b12f41a009f",
   "metadata": {},
   "outputs": [
    {
     "name": "stderr",
     "output_type": "stream",
     "text": [
      "C:\\Users\\kumaraia\\AppData\\Local\\Temp\\ipykernel_299732\\2181166141.py:1: UserWarning: Casting complex values to real discards the imaginary part (Triggered internally at C:\\actions-runner\\_work\\pytorch\\pytorch\\builder\\windows\\pytorch\\aten\\src\\ATen\\native\\Copy.cpp:300.)\n",
      "  V_float = V_cplx.float()\n"
     ]
    },
    {
     "data": {
      "text/plain": [
       "tensor([[-0.8767, -0.6354],\n",
       "        [ 0.4810, -0.7722]])"
      ]
     },
     "execution_count": 12,
     "metadata": {},
     "output_type": "execute_result"
    }
   ],
   "source": [
    "V_float = V_cplx.float()\n",
    "V_float"
   ]
  },
  {
   "cell_type": "code",
   "execution_count": 13,
   "id": "d77d5337-3858-4ec2-a579-d245e02cbbd6",
   "metadata": {},
   "outputs": [
    {
     "data": {
      "text/plain": [
       "tensor([ 2.3196, -1.2725])"
      ]
     },
     "execution_count": 13,
     "metadata": {},
     "output_type": "execute_result"
    }
   ],
   "source": [
    "pt.matmul(A_pt, V_float[:,0])"
   ]
  },
  {
   "cell_type": "code",
   "execution_count": 14,
   "id": "aa0ac03d-9ee7-4629-986b-dcb040c12db9",
   "metadata": {},
   "outputs": [
    {
     "data": {
      "text/plain": [
       "tensor([-2.6458,  2.6458])"
      ]
     },
     "execution_count": 14,
     "metadata": {},
     "output_type": "execute_result"
    }
   ],
   "source": [
    "lambdas = lambdas_cplx.float()\n",
    "lambdas"
   ]
  },
  {
   "cell_type": "code",
   "execution_count": 15,
   "id": "77c1b33e-356a-4a89-a980-5960040ec693",
   "metadata": {},
   "outputs": [
    {
     "data": {
      "text/plain": [
       "tensor([ 2.3196, -1.2725])"
      ]
     },
     "execution_count": 15,
     "metadata": {},
     "output_type": "execute_result"
    }
   ],
   "source": [
    "lambda_0xV0 = lambdas[0]*V_float[:,0]\n",
    "lambda_0xV0"
   ]
  },
  {
   "cell_type": "markdown",
   "id": "e06a37af-22a3-46dd-aaf1-06a3a51b9441",
   "metadata": {},
   "source": [
    "## Example eigen decomposition with tensorflow"
   ]
  },
  {
   "cell_type": "code",
   "execution_count": 16,
   "id": "3f583886-aa24-4ece-9cf0-e2b2ffd7bafc",
   "metadata": {},
   "outputs": [
    {
     "data": {
      "text/plain": [
       "<tf.Tensor: shape=(2, 2), dtype=float32, numpy=\n",
       "array([[-1.,  3.],\n",
       "       [ 2.,  1.]], dtype=float32)>"
      ]
     },
     "execution_count": 16,
     "metadata": {},
     "output_type": "execute_result"
    }
   ],
   "source": [
    "A_tf = tf.convert_to_tensor(A, dtype=tf.float32)\n",
    "A_tf"
   ]
  },
  {
   "cell_type": "code",
   "execution_count": 17,
   "id": "d081542a-8ba3-4562-b9cf-3236424e05ad",
   "metadata": {},
   "outputs": [],
   "source": [
    "eigvalues, eigvectors = tf.linalg.eig(A_tf)"
   ]
  },
  {
   "cell_type": "code",
   "execution_count": 18,
   "id": "67d20187-e181-48ed-9231-4f103e03194a",
   "metadata": {},
   "outputs": [
    {
     "data": {
      "text/plain": [
       "<tf.Tensor: shape=(2,), dtype=complex64, numpy=array([-2.6457515+0.j,  2.6457515+0.j], dtype=complex64)>"
      ]
     },
     "execution_count": 18,
     "metadata": {},
     "output_type": "execute_result"
    }
   ],
   "source": [
    "eigvalues"
   ]
  },
  {
   "cell_type": "code",
   "execution_count": 19,
   "id": "8ff930cc-8f27-4f6d-a57d-131162a790e4",
   "metadata": {},
   "outputs": [
    {
     "data": {
      "text/plain": [
       "<tf.Tensor: shape=(2, 2), dtype=complex64, numpy=\n",
       "array([[-0.87673974+0.j, -0.6354064 +0.j],\n",
       "       [ 0.48096517+0.j, -0.7721779 +0.j]], dtype=complex64)>"
      ]
     },
     "execution_count": 19,
     "metadata": {},
     "output_type": "execute_result"
    }
   ],
   "source": [
    "eigvectors"
   ]
  },
  {
   "cell_type": "code",
   "execution_count": 20,
   "id": "d04e111c-6af6-45f8-b67d-296e30622d5d",
   "metadata": {},
   "outputs": [
    {
     "name": "stdout",
     "output_type": "stream",
     "text": [
      "WARNING:tensorflow:You are casting an input of type complex64 to an incompatible dtype float32.  This will discard the imaginary part and may not be what you intended.\n",
      "WARNING:tensorflow:You are casting an input of type complex64 to an incompatible dtype float32.  This will discard the imaginary part and may not be what you intended.\n"
     ]
    }
   ],
   "source": [
    "lambda_0 = tf.cast(eigvalues[0],dtype=tf.float32)\n",
    "lambda_1 = tf.cast(eigvalues[1],dtype = tf.float32)"
   ]
  },
  {
   "cell_type": "code",
   "execution_count": 21,
   "id": "e92c688e-f0ca-4636-b368-8687d77fde0c",
   "metadata": {},
   "outputs": [
    {
     "data": {
      "text/plain": [
       "(<tf.Tensor: shape=(), dtype=float32, numpy=-2.6457515>,\n",
       " <tf.Tensor: shape=(), dtype=float32, numpy=2.6457515>)"
      ]
     },
     "execution_count": 21,
     "metadata": {},
     "output_type": "execute_result"
    }
   ],
   "source": [
    "lambda_0, lambda_1"
   ]
  },
  {
   "cell_type": "code",
   "execution_count": 22,
   "id": "d7d680d9-16e9-49b6-b687-2e43c77de119",
   "metadata": {},
   "outputs": [
    {
     "name": "stdout",
     "output_type": "stream",
     "text": [
      "WARNING:tensorflow:You are casting an input of type complex64 to an incompatible dtype float32.  This will discard the imaginary part and may not be what you intended.\n"
     ]
    },
    {
     "data": {
      "text/plain": [
       "<tf.Tensor: shape=(2,), dtype=float32, numpy=array([-0.87673974,  0.48096517], dtype=float32)>"
      ]
     },
     "execution_count": 22,
     "metadata": {},
     "output_type": "execute_result"
    }
   ],
   "source": [
    "eigvec0 = tf.cast(eigvectors[:,0],dtype=tf.float32)\n",
    "eigvec0"
   ]
  },
  {
   "cell_type": "code",
   "execution_count": 23,
   "id": "d2d02a01-2322-446e-bc66-0aa4e4dc99fa",
   "metadata": {},
   "outputs": [
    {
     "data": {
      "text/plain": [
       "<tf.Tensor: shape=(2,), dtype=float32, numpy=array([ 2.3196354, -1.2725143], dtype=float32)>"
      ]
     },
     "execution_count": 23,
     "metadata": {},
     "output_type": "execute_result"
    }
   ],
   "source": [
    "lambda_0xV0 = tf.multiply(lambda_0, eigvec0)\n",
    "lambda_0xV0"
   ]
  },
  {
   "cell_type": "code",
   "execution_count": 24,
   "id": "eec1a6b9-a63d-434b-b833-bfe95e0d0911",
   "metadata": {},
   "outputs": [
    {
     "data": {
      "text/plain": [
       "<tf.Tensor: shape=(2,), dtype=float32, numpy=array([ 2.3196354, -1.2725143], dtype=float32)>"
      ]
     },
     "execution_count": 24,
     "metadata": {},
     "output_type": "execute_result"
    }
   ],
   "source": [
    "AxV0 = tf.linalg.matvec(A_tf, eigvec0)\n",
    "AxV0"
   ]
  },
  {
   "cell_type": "markdown",
   "id": "3072fcad-51ad-425f-a148-ea7b53f87b71",
   "metadata": {},
   "source": [
    "## eigen values and eigne vectors for matrices when dimensions > 2"
   ]
  },
  {
   "cell_type": "code",
   "execution_count": 25,
   "id": "2a591b2c-1bef-448c-b66f-13c4d8ddf482",
   "metadata": {},
   "outputs": [
    {
     "data": {
      "text/plain": [
       "array([[25,  2,  9],\n",
       "       [ 5, 26, -5],\n",
       "       [ 3,  7, -1]])"
      ]
     },
     "execution_count": 25,
     "metadata": {},
     "output_type": "execute_result"
    }
   ],
   "source": [
    "X = np.array([[25, 2, 9], [5, 26, -5], [3, 7, -1]])\n",
    "X"
   ]
  },
  {
   "cell_type": "code",
   "execution_count": 26,
   "id": "fed236ef-a61d-44d8-a85c-99cac9e9f41c",
   "metadata": {},
   "outputs": [],
   "source": [
    "x_eigvalues, x_eigvec = np.linalg.eig(X)"
   ]
  },
  {
   "cell_type": "code",
   "execution_count": 27,
   "id": "e5dd1e7b-c7bd-40ed-8579-e58723558c77",
   "metadata": {},
   "outputs": [
    {
     "data": {
      "text/plain": [
       "array([29.67623202, 20.62117365, -0.29740567])"
      ]
     },
     "execution_count": 27,
     "metadata": {},
     "output_type": "execute_result"
    }
   ],
   "source": [
    "x_eigvalues"
   ]
  },
  {
   "cell_type": "code",
   "execution_count": 28,
   "id": "86a779aa-cd1b-4e6d-a787-af18909c0813",
   "metadata": {},
   "outputs": [
    {
     "data": {
      "text/plain": [
       "array([[-0.71175736, -0.6501921 , -0.34220476],\n",
       "       [-0.66652125,  0.74464056,  0.23789717],\n",
       "       [-0.22170001,  0.15086635,  0.90901091]])"
      ]
     },
     "execution_count": 28,
     "metadata": {},
     "output_type": "execute_result"
    }
   ],
   "source": [
    "x_eigvec"
   ]
  },
  {
   "cell_type": "code",
   "execution_count": 29,
   "id": "986fe5bd-7939-4415-8272-81e9afd94a22",
   "metadata": {},
   "outputs": [],
   "source": [
    "x_eigvec0 = x_eigvec[:,0]"
   ]
  },
  {
   "cell_type": "code",
   "execution_count": 30,
   "id": "1be505f8-1e31-42e6-86aa-ec0cb48fdc4a",
   "metadata": {},
   "outputs": [
    {
     "data": {
      "text/plain": [
       "array([-21.12227645, -19.77983919,  -6.5792208 ])"
      ]
     },
     "execution_count": 30,
     "metadata": {},
     "output_type": "execute_result"
    }
   ],
   "source": [
    "x_eigvalues[0]*x_eigvec0"
   ]
  },
  {
   "cell_type": "code",
   "execution_count": 31,
   "id": "21a6f10d-fc79-409a-9149-d5f261440787",
   "metadata": {},
   "outputs": [
    {
     "data": {
      "text/plain": [
       "array([-21.12227645, -19.77983919,  -6.5792208 ])"
      ]
     },
     "execution_count": 31,
     "metadata": {},
     "output_type": "execute_result"
    }
   ],
   "source": [
    "np.matmul(X,x_eigvec0)"
   ]
  },
  {
   "cell_type": "code",
   "execution_count": null,
   "id": "8e4a0c75-5b44-46ee-9059-b9c48c6fcba8",
   "metadata": {},
   "outputs": [],
   "source": []
  }
 ],
 "metadata": {
  "kernelspec": {
   "display_name": "Python 3 (ipykernel)",
   "language": "python",
   "name": "python3"
  },
  "language_info": {
   "codemirror_mode": {
    "name": "ipython",
    "version": 3
   },
   "file_extension": ".py",
   "mimetype": "text/x-python",
   "name": "python",
   "nbconvert_exporter": "python",
   "pygments_lexer": "ipython3",
   "version": "3.9.7"
  }
 },
 "nbformat": 4,
 "nbformat_minor": 5
}
